{
  "nbformat": 4,
  "nbformat_minor": 0,
  "metadata": {
    "colab": {
      "provenance": []
    },
    "kernelspec": {
      "name": "python3",
      "display_name": "Python 3"
    },
    "language_info": {
      "name": "python"
    }
  },
  "cells": [
    {
      "cell_type": "markdown",
      "source": [
        "#Statistics Basics| Assignment"
      ],
      "metadata": {
        "id": "m9GXYtGn7Hhg"
      }
    },
    {
      "cell_type": "markdown",
      "source": [
        "Question 1: What is the difference between descriptive statistics and inferential statistics? Explain with examples.   \n",
        "\n",
        "   - Descriptive Statistics:\n",
        "Descriptive statistics deal with collecting, summarizing, and presenting data in a meaningful way. It helps in describing the main features of a dataset without making conclusions beyond it. Examples include measures like mean, median, mode, standard deviation, and graphs such as bar charts or histograms.\n",
        "Example: If we calculate the average marks of 50 students in a class as 72, this only describes that particular group.\n",
        "\n",
        "-  Inferential Statistics: Inferential statistics involve drawing conclusions, predictions, or generalizations about a population based on a sample of data. It uses techniques such as hypothesis testing, confidence intervals, regression, and correlation.\n",
        "Example: If we take a sample of 50 students from a college of 1,000 students and estimate the average study time as 3 hours, we can infer that the average study time of all 1,000 students lies within a certain range (confidence interval)."
      ],
      "metadata": {
        "id": "Ihn3YNAe7Jx2"
      }
    },
    {
      "cell_type": "markdown",
      "source": [
        "Question 2: What is sampling in statistics? Explain the differences between random and stratified sampling.\n",
        "   - Sampling:\n",
        "  In statistics, sampling is the process of selecting a small group (sample) from a large population in order to study the characteristics of the whole population. Since it is often difficult or impossible to collect data from an entire population, sampling allows us to make inferences about the population efficiently.\n",
        "  - Example: Instead of surveying all 10,000 students in a university, we may select 200 students as a sample to estimate the average study time of all students.\n",
        "\n",
        "- Random Sampling- In random sampling, every individual in the population has an equal chance of being selected.\n",
        "- Example: Writing names of all 500 students on slips of paper, mixing them, and randomly picking 50 slips.\n",
        "\n",
        "- Stratified Sampling- In stratified sampling, the population is divided into groups (strata) based on some characteristic (e.g., gender, age, income level). Then, a random sample is taken from each stratum.\n",
        "Example: If a college has 60% boys and 40% girls, and we want a sample of 100 students, we take 60 boys and 40 girls randomly instead of picking 100 randomly from the whole college.\n",
        "\n",
        "| Aspect          | Random Sampling                                    | Stratified Sampling                                                               |\n",
        "| --------------- | -------------------------------------------------- | --------------------------------------------------------------------------------- |\n",
        "| **Definition**  | Every member of the population has an equal chance | Population is divided into groups (strata), and samples are taken from each group |\n",
        "| **Bias**        | Less control; may miss subgroups                   | More controlled; ensures subgroup representation                                  |\n",
        "| **When to Use** | When population is homogeneous (similar)           | When population is heterogeneous (different subgroups)                            |\n",
        "| **Example**     | Picking 50 students randomly from 500              | Picking 30 boys and 20 girls from a class of 50 (if ratio is 60:40)               |\n"
      ],
      "metadata": {
        "id": "Y7TrKkHn8Raz"
      }
    },
    {
      "cell_type": "markdown",
      "source": [
        "Question 3: Define mean, median, and mode. Explain why these measures of central tendency are important.\n",
        "\n",
        "- Mean ▶ The mean (or average) is the sum of all observations divided by the total number of observations.\n",
        "\n",
        "- Median ▶ The median is the middle value when data is arranged in ascending or descending order.\n",
        "If the number of observations is odd, the middle value is the median.\n",
        "If the number of observations is even, the median is the average of the two middle values.\n",
        "\n",
        "- mode ▶ The mode is the value that occurs most frequently in a dataset.\n",
        "\n",
        "    - importance of Mean, Median, and Mode\n",
        "\n",
        "        Summarize Data: They give a single value that represents the entire dataset.\n",
        "\n",
        "        Comparison: Help compare different groups or datasets.\n",
        "\n",
        "        Decision Making: Useful in business, economics, education, and research for interpreting data.\n",
        "\n",
        "        Mean → Best when data is evenly distributed.\n",
        "\n",
        "        Median → Best when data has outliers or skewed distribution.\n",
        "        \n",
        "        Mode → Best for categorical data (like most preferred product or common exam grade).\n",
        "\t​\n"
      ],
      "metadata": {
        "id": "VA-3fqQN9MpU"
      }
    },
    {
      "cell_type": "markdown",
      "source": [
        "Question 4: Explain skewness and kurtosis. What does a positive skew imply about the data?\n",
        "   - 1. Skewness ▶ Skewness measures the asymmetry of a data distribution around its mean.\n",
        "\n",
        "Types:\n",
        "\n",
        "Symmetrical distribution: Mean = Median = Mode.\n",
        "\n",
        "Positive skew (Right-skewed): Tail on the right side is longer; mean > median.\n",
        "\n",
        "Negative skew (Left-skewed): Tail on the left side is longer; mean < median.\n",
        "\n",
        "\n",
        "2. Kurtosis ▶ Kurtosis measures the “tailedness” or the concentration of data in the tails and peak of the distribution compared to a normal distribution.\n",
        "\n",
        "- Positive Skew  What It Implies -\n",
        "\n",
        "    Data has a long right tail.\n",
        "\n",
        "    Mean > Median > Mode.\n",
        "\n",
        "    Most observations are concentrated on the lower side, but a few large values pull the mean to the right.\n",
        "    Example: If most people earn ₹30,000–₹40,000, but a few earn ₹5 lakhs, the income distribution shows positive skew."
      ],
      "metadata": {
        "id": "3Sf4y2Vz-Sfu"
      }
    },
    {
      "cell_type": "code",
      "source": [
        "#Question 5: Implement a Python program to compute the mean, median, and mode of\n",
        "#a given list of numbers.\n",
        "# numbers = [12, 15, 12, 18, 19, 12, 20, 22, 19, 19, 24, 24, 24, 26, 28]\n",
        "# Importing statistics module\n",
        "import statistics as stats\n",
        "\n",
        "numbers = [12, 15, 12, 18, 19, 12, 20, 22, 19, 19, 24, 24, 24, 26, 28]\n",
        "mean_value = stats.mean(numbers)\n",
        "median_value = stats.median(numbers)\n",
        "mode_value = stats.mode(numbers)\n",
        "print(\"Numbers:\", numbers)\n",
        "print(\"Mean   :\", mean_value)\n",
        "print(\"Median :\", median_value)\n",
        "print(\"Mode   :\", mode_value)\n",
        "\n"
      ],
      "metadata": {
        "colab": {
          "base_uri": "https://localhost:8080/"
        },
        "id": "J6Qb8LnA_VjL",
        "outputId": "f675cd75-aecf-4c24-d0e9-27e322c32468"
      },
      "execution_count": 1,
      "outputs": [
        {
          "output_type": "stream",
          "name": "stdout",
          "text": [
            "Numbers: [12, 15, 12, 18, 19, 12, 20, 22, 19, 19, 24, 24, 24, 26, 28]\n",
            "Mean   : 19.6\n",
            "Median : 19\n",
            "Mode   : 12\n"
          ]
        }
      ]
    },
    {
      "cell_type": "code",
      "source": [
        "''' question 6: Compute the covariance and correlation coefficient between the following\n",
        "two datasets provided as lists in Python:\n",
        "list_x = [10, 20, 30, 40, 50]\n",
        "list_y = [15, 25, 35, 45, 60]\n",
        "'''\n",
        "import numpy as np\n",
        "list_x = [10, 20, 30, 40, 50]\n",
        "list_y = [15, 25, 35, 45, 60]\n",
        "x = np.array(list_x)\n",
        "y = np.array(list_y)\n",
        "\n",
        "cov_matrix = np.cov(x, y, bias=False)\n",
        "cov_xy = cov_matrix[0, 1]\n",
        "corr_matrix = np.corrcoef(x, y)\n",
        "corr_xy = corr_matrix[0, 1]\n",
        "\n",
        "print(\"X:\", list_x)\n",
        "print(\"Y:\", list_y)\n",
        "print(\"Covariance:\", cov_xy)\n",
        "print(\"Correlation Coefficient:\", corr_xy)\n"
      ],
      "metadata": {
        "colab": {
          "base_uri": "https://localhost:8080/"
        },
        "id": "E6ehmY_oAMFr",
        "outputId": "cc2bb759-8055-4ff5-dc28-b167c9568f5f"
      },
      "execution_count": 2,
      "outputs": [
        {
          "output_type": "stream",
          "name": "stdout",
          "text": [
            "X: [10, 20, 30, 40, 50]\n",
            "Y: [15, 25, 35, 45, 60]\n",
            "Covariance: 275.0\n",
            "Correlation Coefficient: 0.995893206467704\n"
          ]
        }
      ]
    },
    {
      "cell_type": "code",
      "source": [
        "'''question 7: Write a Python script to draw a boxplot for the following numeric list and\n",
        "identify its outliers. Explain the result:\n",
        "data = [12, 14, 14, 15, 18, 19, 19, 21, 22, 22, 23, 23, 24, 26, 29, 35]\n",
        "'''\n",
        "import matplotlib.pyplot as plt\n",
        "import seaborn as sns\n",
        "data = [12, 14, 14, 15, 18, 19, 19, 21, 22, 22, 23, 23, 24, 26, 29, 35]\n",
        "plt.figure(figsize=(6, 4))\n",
        "sns.boxplot(data=data)\n",
        "plt.title(\"Boxplot of Data\")\n",
        "plt.xlabel(\"Values\")\n",
        "plt.show()\n"
      ],
      "metadata": {
        "colab": {
          "base_uri": "https://localhost:8080/",
          "height": 396
        },
        "id": "YRkPqWrrAj9O",
        "outputId": "fbd6066d-2e19-4359-98fc-91d974f8c90d"
      },
      "execution_count": 3,
      "outputs": [
        {
          "output_type": "display_data",
          "data": {
            "text/plain": [
              "<Figure size 600x400 with 1 Axes>"
            ],
            "image/png": "[encoded data removed]"
          },
          "metadata": {}
        }
      ]
    },
    {
      "cell_type": "markdown",
      "source": [
        "  -  Question 8: You are working as a data analyst in an e-commerce company. The marketing team wants to know if there is a relationship between advertising spend and daily sales.\n",
        "  - Explain how you would use covariance and correlation to explore this\n",
        "relationship.\n",
        "  - Write Python code to compute the correlation between the two lists:\n",
        "\n",
        "      advertising_spend = [200, 250, 300, 400, 500]   \n",
        "      daily_sales = [2200, 2450, 2750, 3200, 4000]\n",
        "\n",
        "answer . Using Covariance\n",
        "\n",
        "            Covariance tells us the direction of the relationship between two variables.\n",
        "\n",
        "            If covariance > 0 → When advertising spend increases, daily sales also increase.\n",
        "\n",
        "            If covariance < 0 → When advertising spend increases, daily sales decrease.\n",
        "\n",
        "            Limitation: Covariance only shows direction, not the strength of the relationship.\n",
        "\n",
        "2. Using Correlation\n",
        "\n",
        "        Correlation coefficient (r) measures both the direction and strength of the relationship.\n",
        "\n",
        "        Values of r range between -1 and +1:\n",
        "\n",
        "        r ≈ +1 → Strong positive relationship\n",
        "\n",
        "        r ≈ -1 → Strong negative relationship\n",
        "\n",
        "        r ≈ 0 → No linear relationship\n",
        "\n",
        "In our case, correlation will show how strongly advertising spend influences daily sales."
      ],
      "metadata": {
        "id": "3fEsfQfiBLXz"
      }
    },
    {
      "cell_type": "code",
      "source": [
        "import numpy as np\n",
        "advertising_spend = [200, 250, 300, 400, 500]\n",
        "daily_sales = [2200, 2450, 2750, 3200, 4000]\n",
        "x = np.array(advertising_spend)\n",
        "y = np.array(daily_sales)\n",
        "\n",
        "# Compute Covariance\n",
        "cov_matrix = np.cov(x, y, bias=False)\n",
        "cov_xy = cov_matrix[0, 1]\n",
        "\n",
        "# Compute Correlation\n",
        "corr_matrix = np.corrcoef(x, y)\n",
        "corr_xy = corr_matrix[0, 1]\n",
        "print(\"Covariance:\", cov_xy)\n",
        "print(\"Correlation Coefficient:\", corr_xy)\n"
      ],
      "metadata": {
        "colab": {
          "base_uri": "https://localhost:8080/"
        },
        "id": "cJkVOG4OBipa",
        "outputId": "64a98b7a-b23d-4611-cc3e-21838ca150d9"
      },
      "execution_count": 4,
      "outputs": [
        {
          "output_type": "stream",
          "name": "stdout",
          "text": [
            "Covariance: 84875.0\n",
            "Correlation Coefficient: 0.9935824101653329\n"
          ]
        }
      ]
    },
    {
      "cell_type": "markdown",
      "source": [
        "Question 9: Your team has collected customer satisfaction survey data on a scale of\n",
        "1-10 and wants to understand its distribution before launching a new product.\n",
        "● Explain which summary statistics and visualizations (e.g. mean, standard\n",
        "deviation, histogram) you’d use.\n",
        "● Write Python code to create a histogram using Matplotlib for the survey data:\n",
        "survey_scores = [7, 8, 5, 9, 6, 7, 8, 9, 10, 4, 7, 6, 9, 8, 7]\n",
        "\n",
        "- Answer - To understand the distribution of survey scores (scale 1–10), we can use:   \n",
        "         -  Mean: The average satisfaction score.\n",
        "\n",
        "         -  Median: The middle score (helps if the data is skewed).\n",
        "\n",
        "         - Mode: The most common score (useful if customers often choose the same rating).\n",
        "\n",
        "          - Standard Deviation (SD): Measures how spread out the scores are.\n",
        "             \n",
        "          -  Small SD → scores are close to the mean.\n",
        "              \n",
        "          - Large SD → scores vary widely.\n",
        " - 2. Visualizations\n",
        "\n",
        "Histogram: Shows the frequency of scores (how many customers gave each rating).\n",
        "\n",
        "Boxplot (optional): Shows spread and potential outliers.\n",
        "\n",
        "Bar chart (if categorical view is needed): To compare counts of each rating.\n",
        "\n"
      ],
      "metadata": {
        "id": "HRmaVf36B2tu"
      }
    },
    {
      "cell_type": "code",
      "source": [
        "import matplotlib.pyplot as plt\n",
        "survey_scores = [7, 8, 5, 9, 6, 7, 8, 9, 10, 4, 7, 6, 9, 8, 7]\n",
        "plt.figure(figsize=(6,4))\n",
        "plt.hist(survey_scores, bins=6, edgecolor=\"black\", color=\"skyblue\")\n",
        "\n",
        "plt.title(\"Customer Satisfaction Survey Distribution\")\n",
        "plt.xlabel(\"Survey Score (1–10)\")\n",
        "plt.ylabel(\"Frequency\")\n",
        "\n",
        "plt.show()\n"
      ],
      "metadata": {
        "colab": {
          "base_uri": "https://localhost:8080/",
          "height": 410
        },
        "id": "WOprk3ibBpit",
        "outputId": "1f43f01b-3562-434a-cac0-72e3b4f53775"
      },
      "execution_count": 5,
      "outputs": [
        {
          "output_type": "display_data",
          "data": {
            "text/plain": [
              "<Figure size 600x400 with 1 Axes>"
            ],
            "image/png": "[encoded data removed]"
          },
          "metadata": {}
        }
      ]
    },
    {
      "cell_type": "code",
      "source": [],
      "metadata": {
        "id": "NZWFPp3mDEPJ"
      },
      "execution_count": null,
      "outputs": []
    }
  ]
}
